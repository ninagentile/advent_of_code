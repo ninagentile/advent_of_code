{
  "nbformat": 4,
  "nbformat_minor": 0,
  "metadata": {
    "colab": {
      "provenance": [],
      "authorship_tag": "ABX9TyMkGvnj1UuJmfR1M3m5pRsJ",
      "include_colab_link": true
    },
    "kernelspec": {
      "name": "python3",
      "display_name": "Python 3"
    },
    "language_info": {
      "name": "python"
    }
  },
  "cells": [
    {
      "cell_type": "markdown",
      "metadata": {
        "id": "view-in-github",
        "colab_type": "text"
      },
      "source": [
        "<a href=\"https://colab.research.google.com/github/ninagentile/advent_of_code/blob/main/AdventOfCode2023/Day_6.ipynb\" target=\"_parent\"><img src=\"https://colab.research.google.com/assets/colab-badge.svg\" alt=\"Open In Colab\"/></a>"
      ]
    },
    {
      "cell_type": "code",
      "execution_count": 27,
      "metadata": {
        "colab": {
          "base_uri": "https://localhost:8080/"
        },
        "id": "y_dGzzhvSmTV",
        "outputId": "581ba912-cc72-4750-e04a-f20d4f26a2f7"
      },
      "outputs": [
        {
          "output_type": "execute_result",
          "data": {
            "text/plain": [
              "([7, 15, 30], [9, 40, 200])"
            ]
          },
          "metadata": {},
          "execution_count": 27
        }
      ],
      "source": [
        "def get_numbers_from_string(input_str, separator=' '):\n",
        "    return [int(i) for i in input_str.split(separator) if i != '']\n",
        "\n",
        "input_str=\"\"\"Time:        54     81     70     88\n",
        "Distance:   446   1292   1035   1007\"\"\"\n",
        "\n",
        "example = \"\"\"Time:      7  15   30\n",
        "Distance:  9  40  200\"\"\"\n",
        "\n",
        "times_str, distances_str = example.split('\\n')\n",
        "times = get_numbers_from_string(times_str.split('Time:')[1])\n",
        "distances = get_numbers_from_string(distances_str.split('Distance:')[1])\n",
        "times, distances"
      ]
    },
    {
      "cell_type": "code",
      "source": [
        "winning_combination_per_race = 1\n",
        "\n",
        "def get_n_winning_combinations(time, distance_record):\n",
        "    n_winning_combinations = 0\n",
        "    # Try all possible combinations of holding time\n",
        "    for holding_time in range(1, time):\n",
        "        # The speed is of one millimiter per each millisecond of holding time\n",
        "        speed = holding_time\n",
        "        remaining_time = time - holding_time\n",
        "        distance_run = speed * remaining_time\n",
        "        if distance_run > distance_record:\n",
        "            n_winning_combinations += 1\n",
        "    return n_winning_combinations\n",
        "\n",
        "for time, distance_record in zip(times, distances):\n",
        "    n_winning_combinations = get_n_winning_combinations(time, distance_record)\n",
        "    winning_combination_per_race *= n_winning_combinations\n",
        "print(winning_combination_per_race)"
      ],
      "metadata": {
        "colab": {
          "base_uri": "https://localhost:8080/"
        },
        "id": "-JFWPvjVTOFb",
        "outputId": "6e01edc9-feeb-4fca-87a1-825f127659c4"
      },
      "execution_count": 31,
      "outputs": [
        {
          "output_type": "stream",
          "name": "stdout",
          "text": [
            "288\n"
          ]
        }
      ]
    },
    {
      "cell_type": "markdown",
      "source": [
        "# Puzzle 2"
      ],
      "metadata": {
        "id": "gQ3TatSDVaOS"
      }
    },
    {
      "cell_type": "code",
      "source": [
        "def get_number_from_string(row):\n",
        "    result = ''\n",
        "    for el in row:\n",
        "        if el.isdigit():\n",
        "            result += el\n",
        "    return int(result)\n",
        "\n",
        "time = get_number_from_string(times_str)\n",
        "distance = get_number_from_string(distances_str)\n",
        "get_n_winning_combinations(time, distance)"
      ],
      "metadata": {
        "colab": {
          "base_uri": "https://localhost:8080/"
        },
        "id": "1t6KPrI2Vcs7",
        "outputId": "2297deac-5acb-4e42-b3ca-856fbc5ba738"
      },
      "execution_count": 24,
      "outputs": [
        {
          "output_type": "execute_result",
          "data": {
            "text/plain": [
              "34934171"
            ]
          },
          "metadata": {},
          "execution_count": 24
        }
      ]
    },
    {
      "cell_type": "code",
      "source": [
        "time, distance"
      ],
      "metadata": {
        "colab": {
          "base_uri": "https://localhost:8080/"
        },
        "id": "ny1FuKuMSvxn",
        "outputId": "777125b2-723e-4b8f-e449-ac40b58af20c"
      },
      "execution_count": 25,
      "outputs": [
        {
          "output_type": "execute_result",
          "data": {
            "text/plain": [
              "(54817088, 446129210351007)"
            ]
          },
          "metadata": {},
          "execution_count": 25
        }
      ]
    },
    {
      "cell_type": "code",
      "source": [],
      "metadata": {
        "id": "74L6EVHDXOcg"
      },
      "execution_count": null,
      "outputs": []
    }
  ]
}